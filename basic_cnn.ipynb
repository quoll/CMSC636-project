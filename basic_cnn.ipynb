{
 "cells": [
  {
   "cell_type": "markdown",
   "id": "10a1a15a-8f27-4926-b587-54d9f1222a94",
   "metadata": {},
   "source": [
    "# CMSC 636, Project: cheXpert analysis\n",
    "## Basic CNN approach"
   ]
  },
  {
   "cell_type": "code",
   "execution_count": 1,
   "id": "2356bcf0-47b5-4f89-9491-773bfe2700b9",
   "metadata": {},
   "outputs": [],
   "source": [
    "import tensorflow as tf\n",
    "import numpy as np\n",
    "import matplotlib.pyplot as plt\n",
    "import matplotlib.image as mpimg\n",
    "from types import SimpleNamespace\n",
    "%matplotlib inline\n",
    "\n",
    "from tensorflow.keras.models import Sequential\n",
    "from tensorflow.keras.layers import Conv2D, MaxPooling2D, Flatten, Dense, Input\n",
    "from tensorflow.keras.optimizers import Adam\n",
    "from tensorflow.keras.losses import CategoricalCrossentropy\n",
    "from tensorflow.keras.metrics import CategoricalAccuracy\n",
    "from tensorflow.keras.utils import to_categorical\n",
    "from tensorflow.keras.datasets import mnist"
   ]
  },
  {
   "cell_type": "markdown",
   "id": "c3bcc1de-21a2-4f21-9fea-c744488533bd",
   "metadata": {},
   "source": [
    "# 1. Load MNIST"
   ]
  },
  {
   "cell_type": "code",
   "execution_count": 2,
   "id": "e5d960b3-fc3a-4d60-9c15-f7c7eec49a5f",
   "metadata": {},
   "outputs": [],
   "source": [
    "def load_mnist():\n",
    "    (x_train, y_train), (x_test, y_test) = mnist.load_data()\n",
    "    \n",
    "    # Normalize to [0, 1]\n",
    "    x_train = x_train.astype(np.float32) / 255.0\n",
    "    x_test  = x_test.astype(np.float32) / 255.0\n",
    "\n",
    "    # Reshape to (batch, height, width, channels)\n",
    "    x_train = np.expand_dims(x_train, axis=-1)  # shape: (60000, 28, 28, 1)\n",
    "    x_test  = np.expand_dims(x_test, axis=-1)   # shape: (10000, 28, 28, 1)\n",
    "\n",
    "    # One-hot encode labels\n",
    "    y_train = to_categorical(y_train, num_classes=10)\n",
    "    y_test  = to_categorical(y_test, num_classes=10)\n",
    "\n",
    "    return (x_train, y_train), (x_test, y_test)"
   ]
  },
  {
   "cell_type": "markdown",
   "id": "3baf044c-ed79-45fd-89c0-388989c016b2",
   "metadata": {},
   "source": [
    "# 2. Model definition"
   ]
  },
  {
   "cell_type": "code",
   "execution_count": 3,
   "id": "bc029ada-18d3-452d-a164-4700fdb5488a",
   "metadata": {
    "scrolled": true
   },
   "outputs": [
    {
     "name": "stderr",
     "output_type": "stream",
     "text": [
      "2025-04-01 23:50:38.812008: I metal_plugin/src/device/metal_device.cc:1154] Metal device set to: Apple M3 Max\n",
      "2025-04-01 23:50:38.812029: I metal_plugin/src/device/metal_device.cc:296] systemMemory: 36.00 GB\n",
      "2025-04-01 23:50:38.812034: I metal_plugin/src/device/metal_device.cc:313] maxCacheSize: 13.50 GB\n",
      "2025-04-01 23:50:38.812048: I tensorflow/core/common_runtime/pluggable_device/pluggable_device_factory.cc:305] Could not identify NUMA node of platform GPU ID 0, defaulting to 0. Your kernel may not have been built with NUMA support.\n",
      "2025-04-01 23:50:38.812060: I tensorflow/core/common_runtime/pluggable_device/pluggable_device_factory.cc:271] Created TensorFlow device (/job:localhost/replica:0/task:0/device:GPU:0 with 0 MB memory) -> physical PluggableDevice (device: 0, name: METAL, pci bus id: <undefined>)\n"
     ]
    }
   ],
   "source": [
    "model = Sequential([\n",
    "    Input(shape=(28,28,1)),\n",
    "    Conv2D(32, (5,5), activation='relu', padding='valid'),\n",
    "    MaxPooling2D(pool_size=(2,2), strides=2),\n",
    "\n",
    "    Conv2D(64, (5,5), activation='relu', padding='valid'),\n",
    "    MaxPooling2D(pool_size=(2,2), strides=2),\n",
    "\n",
    "    Flatten(),\n",
    "\n",
    "    Dense(256, activation='relu'),\n",
    "    Dense(10, activation='softmax')\n",
    "])"
   ]
  },
  {
   "cell_type": "markdown",
   "id": "19d84884-5b35-4f2f-af8d-99bc026e83b8",
   "metadata": {},
   "source": [
    "* `Input(shape=(28,28,1))`: Defines the shape of the input.\n",
    "* `Conv2D(32, (5,5), activation='relu', padding='valid')`: A single greyscale image = 1, 32 filters each producing an output, the filter for the input image being a 5x5 convolution, and a ReLU activation. Output will be 24x24.\n",
    "* `MaxPooling2D(pool_size=(2,2), strides=2)`: Pooling from the convolutional layer. Halves the size to 12x12.\n",
    "* `Conv2D(64, (5,5), activation='relu')`: 32 outputs of the previous layer. This layer has 64 filters to apply to this, each searching for their own features. The convolution at this layer is 5x5. Output will be 8x8. ReLU activation.\n",
    "* `MaxPooling2D(pool_size=(2,2), strides=2)`: Pooling from the convolutional layer. Halves the size to 4x4.\n",
    "* `Flatten()`: Reduces 4x4 over 64 filters (1024 elements) to a single dimension vector.\n",
    "* `Dense(256, activation='relu')`: A hidden layer. Input is the 1024 from the previous layer, and outputs 256 elements. ReLU was also defined.\n",
    "* `DenseLayer(10, activation='softmax')`: Output layer. Input is 256, output is 10. Softmax as the activation function."
   ]
  },
  {
   "cell_type": "markdown",
   "id": "28954c97-02d7-46b5-97ee-ed6dab48a4fe",
   "metadata": {},
   "source": [
    "# 3. Compile"
   ]
  },
  {
   "cell_type": "code",
   "execution_count": 4,
   "id": "326cebae-c7a5-4de9-a8d6-9439aeec657a",
   "metadata": {},
   "outputs": [],
   "source": [
    "model.compile(optimizer=Adam(learning_rate=1e-3),\n",
    "              loss=CategoricalCrossentropy(),\n",
    "              metrics=[CategoricalAccuracy()])"
   ]
  },
  {
   "cell_type": "code",
   "execution_count": 5,
   "id": "c8cf85ea-8ba8-4854-9aec-f9e39820778e",
   "metadata": {},
   "outputs": [],
   "source": [
    "num_steps = 5000\n",
    "summary_freq = 200\n",
    "n_test_log = 10\n",
    "epochs = 10\n",
    "\n",
    "batch_size= 100"
   ]
  },
  {
   "cell_type": "markdown",
   "id": "4bc39e4a-1c09-41c2-9135-aa5bac894361",
   "metadata": {},
   "source": [
    "## Load Data"
   ]
  },
  {
   "cell_type": "code",
   "execution_count": 6,
   "id": "3d9f6794-80a3-4f78-9c3e-56e234c1f1d4",
   "metadata": {},
   "outputs": [],
   "source": [
    "(x_train, y_train), (x_test, y_test) = load_mnist()"
   ]
  },
  {
   "cell_type": "markdown",
   "id": "63a67d91-f861-42f2-8544-c1998b653b5f",
   "metadata": {},
   "source": [
    "## Train"
   ]
  },
  {
   "cell_type": "code",
   "execution_count": 7,
   "id": "3549f8f6-dc1c-444f-9701-91e896fd106b",
   "metadata": {},
   "outputs": [
    {
     "name": "stdout",
     "output_type": "stream",
     "text": [
      "Epoch 1/10\n"
     ]
    },
    {
     "name": "stderr",
     "output_type": "stream",
     "text": [
      "2025-04-01 23:50:39.347449: I tensorflow/core/grappler/optimizers/custom_graph_optimizer_registry.cc:117] Plugin optimizer for device_type GPU is enabled.\n"
     ]
    },
    {
     "name": "stdout",
     "output_type": "stream",
     "text": [
      "\u001b[1m600/600\u001b[0m \u001b[32m━━━━━━━━━━━━━━━━━━━━\u001b[0m\u001b[37m\u001b[0m \u001b[1m8s\u001b[0m 12ms/step - categorical_accuracy: 0.8784 - loss: 0.3871 - val_categorical_accuracy: 0.9840 - val_loss: 0.0495\n",
      "Epoch 2/10\n",
      "\u001b[1m600/600\u001b[0m \u001b[32m━━━━━━━━━━━━━━━━━━━━\u001b[0m\u001b[37m\u001b[0m \u001b[1m7s\u001b[0m 12ms/step - categorical_accuracy: 0.9822 - loss: 0.0577 - val_categorical_accuracy: 0.9848 - val_loss: 0.0506\n",
      "Epoch 3/10\n",
      "\u001b[1m600/600\u001b[0m \u001b[32m━━━━━━━━━━━━━━━━━━━━\u001b[0m\u001b[37m\u001b[0m \u001b[1m7s\u001b[0m 12ms/step - categorical_accuracy: 0.9864 - loss: 0.0417 - val_categorical_accuracy: 0.9886 - val_loss: 0.0383\n",
      "Epoch 4/10\n",
      "\u001b[1m600/600\u001b[0m \u001b[32m━━━━━━━━━━━━━━━━━━━━\u001b[0m\u001b[37m\u001b[0m \u001b[1m7s\u001b[0m 12ms/step - categorical_accuracy: 0.9890 - loss: 0.0356 - val_categorical_accuracy: 0.9899 - val_loss: 0.0351\n",
      "Epoch 5/10\n",
      "\u001b[1m600/600\u001b[0m \u001b[32m━━━━━━━━━━━━━━━━━━━━\u001b[0m\u001b[37m\u001b[0m \u001b[1m7s\u001b[0m 12ms/step - categorical_accuracy: 0.9901 - loss: 0.0370 - val_categorical_accuracy: 0.9907 - val_loss: 0.0348\n",
      "Epoch 6/10\n",
      "\u001b[1m600/600\u001b[0m \u001b[32m━━━━━━━━━━━━━━━━━━━━\u001b[0m\u001b[37m\u001b[0m \u001b[1m7s\u001b[0m 12ms/step - categorical_accuracy: 0.9916 - loss: 0.0306 - val_categorical_accuracy: 0.9890 - val_loss: 0.0487\n",
      "Epoch 7/10\n",
      "\u001b[1m600/600\u001b[0m \u001b[32m━━━━━━━━━━━━━━━━━━━━\u001b[0m\u001b[37m\u001b[0m \u001b[1m7s\u001b[0m 12ms/step - categorical_accuracy: 0.9906 - loss: 0.0400 - val_categorical_accuracy: 0.9856 - val_loss: 0.0914\n",
      "Epoch 8/10\n",
      "\u001b[1m600/600\u001b[0m \u001b[32m━━━━━━━━━━━━━━━━━━━━\u001b[0m\u001b[37m\u001b[0m \u001b[1m7s\u001b[0m 12ms/step - categorical_accuracy: 0.9915 - loss: 0.0464 - val_categorical_accuracy: 0.9885 - val_loss: 0.1016\n",
      "Epoch 9/10\n",
      "\u001b[1m600/600\u001b[0m \u001b[32m━━━━━━━━━━━━━━━━━━━━\u001b[0m\u001b[37m\u001b[0m \u001b[1m7s\u001b[0m 12ms/step - categorical_accuracy: 0.9897 - loss: 0.0749 - val_categorical_accuracy: 0.9904 - val_loss: 0.1121\n",
      "Epoch 10/10\n",
      "\u001b[1m600/600\u001b[0m \u001b[32m━━━━━━━━━━━━━━━━━━━━\u001b[0m\u001b[37m\u001b[0m \u001b[1m7s\u001b[0m 12ms/step - categorical_accuracy: 0.9923 - loss: 0.0650 - val_categorical_accuracy: 0.9858 - val_loss: 0.1869\n"
     ]
    },
    {
     "data": {
      "text/plain": [
       "<keras.src.callbacks.history.History at 0x340818350>"
      ]
     },
     "execution_count": 7,
     "metadata": {},
     "output_type": "execute_result"
    }
   ],
   "source": [
    "model.fit(x_train, y_train, batch_size=batch_size, epochs=epochs, validation_data=(x_test, y_test))"
   ]
  },
  {
   "cell_type": "markdown",
   "id": "ed9165e7-990d-4998-b213-dfeedd9c7e1c",
   "metadata": {},
   "source": [
    "# Reset and retrain"
   ]
  },
  {
   "cell_type": "markdown",
   "id": "98939d22-522e-4dd4-935e-e8cd5d51ad82",
   "metadata": {},
   "source": [
    "# 4. Test the training model on the testing dataset"
   ]
  },
  {
   "cell_type": "code",
   "execution_count": 8,
   "id": "727f0bbd-b574-4e6e-8ce9-f0f6e9c65f25",
   "metadata": {},
   "outputs": [
    {
     "name": "stdout",
     "output_type": "stream",
     "text": [
      "\u001b[1m313/313\u001b[0m \u001b[32m━━━━━━━━━━━━━━━━━━━━\u001b[0m\u001b[37m\u001b[0m \u001b[1m2s\u001b[0m 6ms/step - categorical_accuracy: 0.9820 - loss: 0.2453\n",
      "Test accuracy: 98.58% | Test loss: 0.186865\n",
      "\u001b[1m1/1\u001b[0m \u001b[32m━━━━━━━━━━━━━━━━━━━━\u001b[0m\u001b[37m\u001b[0m \u001b[1m0s\u001b[0m 40ms/step\n",
      "Predicted class: 9\n",
      "Labeled: 9\n"
     ]
    },
    {
     "data": {
      "text/plain": [
       "<matplotlib.image.AxesImage at 0x341bf4e90>"
      ]
     },
     "execution_count": 8,
     "metadata": {},
     "output_type": "execute_result"
    },
    {
     "data": {
      "image/png": "[encoded data removed]",
      "text/plain": [
       "<Figure size 640x480 with 1 Axes>"
      ]
     },
     "metadata": {},
     "output_type": "display_data"
    }
   ],
   "source": [
    "test_loss, test_acc = model.evaluate(x_test, y_test)\n",
    "print(f\"Test accuracy: {test_acc:.2%} | Test loss: {test_loss:.6}\")\n",
    "\n",
    "# For a single image\n",
    "i = np.random.randint(len(x_test))\n",
    "x_sample = x_test[i]\n",
    "y_sample = y_test[i]\n",
    "image = x_sample[np.newaxis, ...]\n",
    "pred = model.predict(image)\n",
    "print(\"Predicted class:\", pred.argmax())\n",
    "print(\"Labeled:\", y_sample.argmax())\n",
    "\n",
    "plt.imshow(np.squeeze(image))"
   ]
  }
 ],
 "metadata": {
  "kernelspec": {
   "display_name": "Python (tf)",
   "language": "python",
   "name": "tf"
  },
  "language_info": {
   "codemirror_mode": {
    "name": "ipython",
    "version": 3
   },
   "file_extension": ".py",
   "mimetype": "text/x-python",
   "name": "python",
   "nbconvert_exporter": "python",
   "pygments_lexer": "ipython3",
   "version": "3.11.8"
  }
 },
 "nbformat": 4,
 "nbformat_minor": 5
}
